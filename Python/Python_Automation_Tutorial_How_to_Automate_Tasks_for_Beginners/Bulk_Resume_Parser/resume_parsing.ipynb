{
 "cells": [
  {
   "cell_type": "code",
   "execution_count": 1,
   "id": "320f6f98",
   "metadata": {},
   "outputs": [],
   "source": [
    "import spacy # nlp\n",
    "import pdfminer # pdf2txt\n",
    "import re # regex\n",
    "import os # file manipulation\n",
    "import pandas as pd # csv - tabular"
   ]
  },
  {
   "cell_type": "code",
   "execution_count": 2,
   "id": "d78796c4",
   "metadata": {},
   "outputs": [],
   "source": [
    "import pdf2txt"
   ]
  },
  {
   "cell_type": "code",
   "execution_count": 3,
   "id": "13389390",
   "metadata": {},
   "outputs": [],
   "source": [
    "def convert_pdf(file_name):\n",
    "    filename_txt = os.path.basename(os.path.splitext(file_name)[0]) + \".txt\" # basename but with txt instead of pdf\n",
    "    filepath_txt = os.path.join(\"output/txt/\", filename_txt) # output path\n",
    "    pdf2txt.main(args=[file_name, \"--outfile\", filepath_txt]) # pdf to txt and save it in the given location\n",
    "    print(f\"{filepath_txt} saved successfully!\")\n",
    "    with open(filepath_txt) as to_read:\n",
    "        return to_read.read()\n",
    "    # return open(filepath_txt).read()"
   ]
  },
  {
   "cell_type": "code",
   "execution_count": 4,
   "id": "9eac5c96",
   "metadata": {},
   "outputs": [],
   "source": [
    "nlp = spacy.load(\"en_core_web_sm\") # load the language model"
   ]
  },
  {
   "cell_type": "code",
   "execution_count": 5,
   "id": "f6d1af5d",
   "metadata": {},
   "outputs": [],
   "source": [
    "result_dict = {'name': [], 'phone': [], 'email': [], 'skills': []}\n",
    "names = []\n",
    "phones = []\n",
    "emails = []\n",
    "skills = []"
   ]
  },
  {
   "cell_type": "code",
   "execution_count": 6,
   "id": "380aa670",
   "metadata": {},
   "outputs": [],
   "source": [
    "def parse_content(text):\n",
    "    skillset = re.compile(\"python|java|sql|hadoop|tableau\")\n",
    "    phone_num = re.compile(\n",
    "    \"(\\d{3}[-\\.\\s]??\\d{3}[-\\.\\s]??\\d{4}|\\(\\d{3}\\)\\s*\\d{3}[-\\.\\s]??\\d{4}|\\d{3}[-\\.\\s]??\\d{4})\"\n",
    "    )\n",
    "    nlp_text = nlp(text)\n",
    "    name = [entity.text for entity in nlp_text.ents if entity.label_ == \"PERSON\"][0]\n",
    "    email = [word for word in nlp_text if word.like_email is True][0]\n",
    "    print(f\"Name: {name}, E-mail: {email}\")\n",
    "    phone = re.findall(phone_num, text.lower())\n",
    "    skills_list = re.findall(skillset, text.lower())\n",
    "    unique_skills_list = list(set(skills_list))\n",
    "    \n",
    "    names.append(name.strip())\n",
    "    emails.append(email)\n",
    "    phones.append(phone)\n",
    "    skills.append(unique_skills_list)\n",
    "    \n",
    "    print(\"Extraction completed successfully!\\n\")"
   ]
  },
  {
   "cell_type": "code",
   "execution_count": 7,
   "id": "b9f0c7c9",
   "metadata": {},
   "outputs": [],
   "source": [
    "def for_file_in_ls():\n",
    "    for file_name in os.listdir('resumes/'):\n",
    "        if file_name.endswith('.pdf'):\n",
    "            print(f\"Reading {file_name}\")\n",
    "            txt = convert_pdf(os.path.join('resumes/', file_name))\n",
    "            parse_content(txt)"
   ]
  },
  {
   "cell_type": "code",
   "execution_count": 8,
   "id": "514aee0a",
   "metadata": {},
   "outputs": [
    {
     "name": "stdout",
     "output_type": "stream",
     "text": [
      "Reading Alisson ParkerCV.pdf\n",
      "output/txt/Alisson ParkerCV.txt saved successfully!\n",
      "Name: Alisson Parker-Wright                                                                                                 , E-mail: alli1414parks@mail.com\n",
      "Extraction completed successfully!\n",
      "\n",
      "Reading AshleyMilesCV.pdf\n",
      "output/txt/AshleyMilesCV.txt saved successfully!\n",
      "Name: Ashley Miles, E-mail: ashleymiles@memail.com\n",
      "Extraction completed successfully!\n",
      "\n",
      "Reading John DominicCV.pdf\n",
      "output/txt/John DominicCV.txt saved successfully!\n",
      "Name: John Dominic, E-mail: johndominic@mail.com\n",
      "Extraction completed successfully!\n",
      "\n"
     ]
    }
   ],
   "source": [
    "for_file_in_ls()"
   ]
  },
  {
   "cell_type": "code",
   "execution_count": 9,
   "id": "83e65ba9",
   "metadata": {},
   "outputs": [
    {
     "data": {
      "text/plain": [
       "['Alisson Parker-Wright', 'Ashley Miles', 'John Dominic']"
      ]
     },
     "execution_count": 9,
     "metadata": {},
     "output_type": "execute_result"
    }
   ],
   "source": [
    "names"
   ]
  },
  {
   "cell_type": "code",
   "execution_count": 10,
   "id": "64e47a2f",
   "metadata": {},
   "outputs": [
    {
     "data": {
      "text/plain": [
       "[['8569878511'], ['6592251422'], ['7877756411']]"
      ]
     },
     "execution_count": 10,
     "metadata": {},
     "output_type": "execute_result"
    }
   ],
   "source": [
    "phones"
   ]
  },
  {
   "cell_type": "code",
   "execution_count": 11,
   "id": "0fe9e53b",
   "metadata": {},
   "outputs": [
    {
     "data": {
      "text/plain": [
       "[['python', 'java', 'tableau'],\n",
       " ['tableau', 'sql'],\n",
       " ['python', 'java', 'hadoop']]"
      ]
     },
     "execution_count": 11,
     "metadata": {},
     "output_type": "execute_result"
    }
   ],
   "source": [
    "skills"
   ]
  },
  {
   "cell_type": "code",
   "execution_count": 12,
   "id": "ba4489f3",
   "metadata": {},
   "outputs": [
    {
     "data": {
      "text/plain": [
       "[alli1414parks@mail.com, ashleymiles@memail.com, johndominic@mail.com]"
      ]
     },
     "execution_count": 12,
     "metadata": {},
     "output_type": "execute_result"
    }
   ],
   "source": [
    "emails"
   ]
  },
  {
   "cell_type": "code",
   "execution_count": 13,
   "id": "f1c798e4",
   "metadata": {},
   "outputs": [],
   "source": [
    "result_dict[\"name\"] = names\n",
    "result_dict[\"phone\"] = phones\n",
    "result_dict[\"email\"] = emails\n",
    "result_dict[\"skills\"] = skills"
   ]
  },
  {
   "cell_type": "code",
   "execution_count": 14,
   "id": "30074295",
   "metadata": {},
   "outputs": [
    {
     "data": {
      "text/plain": [
       "{'name': ['Alisson Parker-Wright', 'Ashley Miles', 'John Dominic'],\n",
       " 'phone': [['8569878511'], ['6592251422'], ['7877756411']],\n",
       " 'email': [alli1414parks@mail.com,\n",
       "  ashleymiles@memail.com,\n",
       "  johndominic@mail.com],\n",
       " 'skills': [['python', 'java', 'tableau'],\n",
       "  ['tableau', 'sql'],\n",
       "  ['python', 'java', 'hadoop']]}"
      ]
     },
     "execution_count": 14,
     "metadata": {},
     "output_type": "execute_result"
    }
   ],
   "source": [
    "result_dict"
   ]
  },
  {
   "cell_type": "code",
   "execution_count": 15,
   "id": "d62f8b4c",
   "metadata": {},
   "outputs": [
    {
     "data": {
      "text/html": [
       "<div>\n",
       "<style scoped>\n",
       "    .dataframe tbody tr th:only-of-type {\n",
       "        vertical-align: middle;\n",
       "    }\n",
       "\n",
       "    .dataframe tbody tr th {\n",
       "        vertical-align: top;\n",
       "    }\n",
       "\n",
       "    .dataframe thead th {\n",
       "        text-align: right;\n",
       "    }\n",
       "</style>\n",
       "<table border=\"1\" class=\"dataframe\">\n",
       "  <thead>\n",
       "    <tr style=\"text-align: right;\">\n",
       "      <th></th>\n",
       "      <th>name</th>\n",
       "      <th>phone</th>\n",
       "      <th>email</th>\n",
       "      <th>skills</th>\n",
       "    </tr>\n",
       "  </thead>\n",
       "  <tbody>\n",
       "    <tr>\n",
       "      <th>0</th>\n",
       "      <td>Alisson Parker-Wright</td>\n",
       "      <td>[8569878511]</td>\n",
       "      <td>alli1414parks@mail.com</td>\n",
       "      <td>[python, java, tableau]</td>\n",
       "    </tr>\n",
       "    <tr>\n",
       "      <th>1</th>\n",
       "      <td>Ashley Miles</td>\n",
       "      <td>[6592251422]</td>\n",
       "      <td>ashleymiles@memail.com</td>\n",
       "      <td>[tableau, sql]</td>\n",
       "    </tr>\n",
       "    <tr>\n",
       "      <th>2</th>\n",
       "      <td>John Dominic</td>\n",
       "      <td>[7877756411]</td>\n",
       "      <td>johndominic@mail.com</td>\n",
       "      <td>[python, java, hadoop]</td>\n",
       "    </tr>\n",
       "  </tbody>\n",
       "</table>\n",
       "</div>"
      ],
      "text/plain": [
       "                    name         phone                   email  \\\n",
       "0  Alisson Parker-Wright  [8569878511]  alli1414parks@mail.com   \n",
       "1           Ashley Miles  [6592251422]  ashleymiles@memail.com   \n",
       "2           John Dominic  [7877756411]    johndominic@mail.com   \n",
       "\n",
       "                    skills  \n",
       "0  [python, java, tableau]  \n",
       "1           [tableau, sql]  \n",
       "2   [python, java, hadoop]  "
      ]
     },
     "execution_count": 15,
     "metadata": {},
     "output_type": "execute_result"
    }
   ],
   "source": [
    "result_df = pd.DataFrame(result_dict)\n",
    "result_df"
   ]
  },
  {
   "cell_type": "code",
   "execution_count": 28,
   "id": "849542f2",
   "metadata": {},
   "outputs": [],
   "source": [
    "result_df.to_csv(\"output/csv/parsed_resumes.csv\")"
   ]
  }
 ],
 "metadata": {
  "kernelspec": {
   "display_name": "Python 3 (ipykernel)",
   "language": "python",
   "name": "python3"
  },
  "language_info": {
   "codemirror_mode": {
    "name": "ipython",
    "version": 3
   },
   "file_extension": ".py",
   "mimetype": "text/x-python",
   "name": "python",
   "nbconvert_exporter": "python",
   "pygments_lexer": "ipython3",
   "version": "3.10.5"
  }
 },
 "nbformat": 4,
 "nbformat_minor": 5
}
