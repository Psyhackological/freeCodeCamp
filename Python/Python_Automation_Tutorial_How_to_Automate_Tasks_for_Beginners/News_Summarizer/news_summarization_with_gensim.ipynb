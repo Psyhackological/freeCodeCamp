{
 "cells": [
  {
   "cell_type": "markdown",
   "id": "86941c54",
   "metadata": {},
   "source": [
    "## News Extraction"
   ]
  },
  {
   "cell_type": "markdown",
   "id": "0fc78747",
   "metadata": {},
   "source": [
    "### Import Packages"
   ]
  },
  {
   "cell_type": "code",
   "execution_count": 56,
   "id": "5c57a6da",
   "metadata": {},
   "outputs": [],
   "source": [
    "from bs4 import BeautifulSoup\n",
    "from requests import get"
   ]
  },
  {
   "cell_type": "markdown",
   "id": "5e30edfc",
   "metadata": {},
   "source": [
    "### Creating a Function to Extract only Text from `<p>` Tags"
   ]
  },
  {
   "cell_type": "code",
   "execution_count": 57,
   "id": "bcf386a5",
   "metadata": {},
   "outputs": [],
   "source": [
    "def get_only_text(url):\n",
    "    \"\"\"\n",
    "    return the title and the text of the article\n",
    "    at the specified url\n",
    "    \"\"\"\n",
    "    request = get(url)\n",
    "    soup = BeautifulSoup(request.content, 'html')\n",
    "    text = ' '.join(map(lambda p: p.text, soup.find_all('p')))\n",
    "    title = ' '. join(soup.title.stripped_strings)\n",
    "    return title, text"
   ]
  },
  {
   "cell_type": "markdown",
   "id": "02f19d9f",
   "metadata": {},
   "source": [
    "### Calling the function with the desired News URL"
   ]
  },
  {
   "cell_type": "code",
   "execution_count": 58,
   "id": "f1aa7b15",
   "metadata": {},
   "outputs": [],
   "source": [
    "# url = \"https://www.freecodecamp.org/news/best-python-tutorial/\"\n",
    "url = \"https://docs.microsoft.com/en-us/dotnet/csharp/tour-of-csharp/\"\n",
    "url_text = get_only_text(url)"
   ]
  },
  {
   "cell_type": "code",
   "execution_count": 59,
   "id": "59743efa",
   "metadata": {},
   "outputs": [
    {
     "data": {
      "text/plain": [
       "'This browser is no longer supported. Upgrade to Microsoft Edge to take advantage of the latest features, security updates, and technical support. C# (pronounced \"See Sharp\") is a modern, object-oriented, and type-safe programming language. C# enables developers to build many types of secure and robust applications that run in .NET. C# has its roots in the C family of languages and will be immediately familiar to C, C++, Java, and JavaScript programmers. This tour provides an overview of the major components of the language in C# 8 and earlier. If you want to explore the language through interactive examples, try the introduction to C# tutorials. C# is an object-oriented, component-oriented programming language. C# provides language constructs to directly support these concepts, making C# a natural language in which to create and use software components. Since its origin, C# has added features to support new workloads and emerging software design practices. At its core, C# is an object-oriented language. You define types and their behavior. Several C# features help create robust and durable applications. Garbage collection automatically reclaims memory occupied by unreachable unused objects. Nullable types guard against variables that don\\'t refer to allocated objects. Exception handling provides a structured and extensible approach to error detection and recovery. Lambda expressions support functional programming techniques. Language Integrated Query (LINQ) syntax creates a common pattern for working with data from any source. Language support for asynchronous operations provides syntax for building distributed systems. C# has a unified type system. All C# types, including primitive types such as int and double, inherit from a single root object type. All types share a set of common operations. Values of any type can be stored, transported, and operated upon in a consistent manner. Furthermore, C# supports both user-defined reference types and value types. C# allows dynamic allocation of objects and in-line storage of lightweight structures. C# supports generic methods and types, which provide increased type safety and performance. C# provides iterators, which enable implementers of collection classes to define custom behaviors for client code. C# emphasizes versioning to ensure programs and libraries can evolve over time in a compatible manner. Aspects of C#\\'s design that were directly influenced by versioning considerations include the separate virtual and override modifiers, the rules for method overload resolution, and support for explicit interface member declarations. C# programs run on .NET, a virtual execution system called the common language runtime (CLR) and a set of class libraries. The CLR is the implementation by Microsoft of the common language infrastructure (CLI), an international standard. The CLI is the basis for creating execution and development environments in which languages and libraries work together seamlessly. Source code written in C# is compiled into an intermediate language (IL) that conforms to the CLI specification. The IL code and resources, such as bitmaps and strings, are stored in an assembly, typically with an extension of .dll. An assembly contains a manifest that provides information about the assembly\\'s types, version, and culture. When the C# program is executed, the assembly is loaded into the CLR. The CLR performs Just-In-Time (JIT) compilation to convert the IL code to native machine instructions. The CLR provides other services related to automatic garbage collection, exception handling, and resource management. Code that\\'s executed by the CLR is sometimes referred to as \"managed code.\" \"Unmanaged code,\" is compiled into native machine language that targets a specific platform. Language interoperability is a key feature of .NET. IL code produced by the C# compiler conforms to the Common Type Specification (CTS). IL code generated from C# can interact with code that was generated from the .NET versions of F#, Visual Basic, C++. There are more than 20 other CTS-compliant languages. A single assembly may contain multiple modules written in different .NET languages. The types can reference each other as if they were written in the same language. In addition to the run time services, .NET also includes extensive libraries. These libraries support many different workloads. They\\'re organized into namespaces that provide a wide variety of useful functionality. The libraries include everything from file input and output to string manipulation to XML parsing, to web application frameworks to Windows Forms controls. The typical C# application uses the .NET class library extensively to handle common \"plumbing\" chores. For more information about .NET, see Overview of .NET. The \"Hello, World\" program is traditionally used to introduce a programming language. Here it is in C#: The \"Hello, World\" program starts with a using directive that references the System namespace. Namespaces provide a hierarchical means of organizing C# programs and libraries. Namespaces contain types and other namespaces—for example, the System namespace contains a number of types, such as the Console class referenced in the program, and a number of other namespaces, such as IO and Collections. A using directive that references a given namespace enables unqualified use of the types that are members of that namespace. Because of the using directive, the program can use Console.WriteLine as shorthand for System.Console.WriteLine. The Hello class declared by the \"Hello, World\" program has a single member, the method named Main. The Main method is declared with the static modifier. While instance methods can reference a particular enclosing object instance using the keyword this, static methods operate without reference to a particular object. By convention, a static method named Main serves as the entry point of a C# program. The output of the program is produced by the WriteLine method of the Console class in the System namespace. This class is provided by the standard class libraries, which, by default, are automatically referenced by the compiler. A type defines the structure and behavior of any data in C#. The declaration of a type may include its members, base type, interfaces it implements, and operations permitted for that type. A variable is a label that refers to an instance of a specific type. There are two kinds of types in C#: value types and reference types. Variables of value types directly contain their data. Variables of reference types store references to their data, the latter being known as objects. With reference types, it\\'s possible for two variables to reference the same object and possible for operations on one variable to affect the object referenced by the other variable. With value types, the variables each have their own copy of the data, and it isn\\'t possible for operations on one to affect the other (except for ref and out parameter variables). An identifier is a variable name. An identifier is a sequence of unicode characters without any whitespace. An identifier may be a C# reserved word, if it\\'s prefixed by @. Using a reserved word as an identifier can be useful when interacting with other languages. C#\\'s value types are further divided into simple types, enum types, struct types, nullable value types, and tuple value types. C#\\'s reference types are further divided into class types, interface types, array types, and delegate types. The following outline provides an overview of C#\\'s type system. C# programs use type declarations to create new types. A type declaration specifies the name and the members of the new type. Six of C#\\'s categories of types are user-definable: class types, struct types, interface types, enum types, delegate types, and tuple value types. You can also declare record types, either record struct, or record class. Record types have compiler-synthesized members. You use records primarily for storing values, with minimal associated behavior. The class, struct, interface, and delegate types all support generics, whereby they can be parameterized with other types. C# supports single-dimensional and multi-dimensional arrays of any type. Unlike the types listed above, array types don\\'t have to be declared before they can be used. Instead, array types are constructed by following a type name with square brackets. For example, int[] is a single-dimensional array of int, int[,] is a two-dimensional array of int, and int[][] is a single-dimensional array of single-dimensional arrays, or a \"jagged\" array, of int. Nullable types don\\'t require a separate definition. For each non-nullable type T, there\\'s a corresponding nullable type T?, which can hold an additional value, null. For instance, int? is a type that can hold any 32-bit integer or the value null, and string? is a type that can hold any string or the value null. C#\\'s type system is unified such that a value of any type can be treated as an object. Every type in C# directly or indirectly derives from the object class type, and object is the ultimate base class of all types. Values of reference types are treated as objects simply by viewing the values as type object. Values of value types are treated as objects by performing boxing and unboxing operations. In the following example, an int value is converted to object and back again to int. When a value of a value type is assigned to an object reference, a \"box\" is allocated to hold the value. That box is an instance of a reference type, and the value is copied into that box. Conversely, when an object reference is cast to a value type, a check is made that the referenced object is a box of the correct value type. If the check succeeds, the value in the box is copied to the value type. C#\\'s unified type system effectively means that value types are treated as object references \"on demand.\" Because of the unification, general-purpose libraries that use type object can be used with all types that derive from object, including both reference types and value types. There are several kinds of variables in C#, including fields, array elements, local variables, and parameters. Variables represent storage locations. Every variable has a type that determines what values can be stored in the variable, as shown below. The key organizational concepts in C# are programs, namespaces, types, members, and assemblies. Programs declare types, which contain members and can be organized into namespaces. Classes, structs, and interfaces are examples of types. Fields, methods, properties, and events are examples of members. When C# programs are compiled, they\\'re physically packaged into assemblies. Assemblies typically have the file extension .exe or .dll, depending on whether they implement applications or libraries, respectively. As a small example, consider an assembly that contains the following code: The fully qualified name of this class is Acme.Collections.Stack. The class contains several members: a field named _top, two methods named Push and Pop, and a nested class named Entry. The Entry class further contains three members: a property named Next, a property named Data, and a constructor. The Stack is a generic class. It has one type parameter, T that is replaced with a concrete type when it\\'s used. A stack is a \"first in - last out\" (FILO) collection. New elements are added to the top of the stack. When an element is removed, it\\'s removed from the top of the stack. The previous example declares the Stack type that defines the storage and behavior for a stack. You can declare a variable that refers to an instance of the Stack type to use that functionality. Assemblies contain executable code in the form of Intermediate Language (IL) instructions, and symbolic information in the form of metadata. Before it\\'s executed, the Just-In-Time (JIT) compiler of .NET Common Language Runtime converts the IL code in an assembly to processor-specific code. Because an assembly is a self-describing unit of functionality containing both code and metadata, there\\'s no need for #include directives and header files in C#. The public types and members contained in a particular assembly are made available in a C# program simply by referencing that assembly when compiling the program. For example, this program uses the Acme.Collections.Stack class from the acme.dll assembly: To compile this program, you would need to reference the assembly containing the stack class defined in the earlier example. C# programs can be stored in several source files. When a C# program is compiled, all of the source files are processed together, and the source files can freely reference each other. Conceptually, it\\'s as if all the source files were concatenated into one large file before being processed. Forward declarations are never needed in C# because, with few exceptions, declaration order is insignificant. C# doesn\\'t limit a source file to declaring only one public type nor does it require the name of the source file to match a type declared in the source file. Further articles in this tour explain these organizational blocks. Next Submit and view feedback for'"
      ]
     },
     "execution_count": 59,
     "metadata": {},
     "output_type": "execute_result"
    }
   ],
   "source": [
    "url_text[0].strip()\n",
    "url_text[1].strip()"
   ]
  },
  {
   "cell_type": "markdown",
   "id": "7b7d2e86",
   "metadata": {},
   "source": [
    "### Number of Words - Original Text"
   ]
  },
  {
   "cell_type": "code",
   "execution_count": 60,
   "id": "641130d7",
   "metadata": {},
   "outputs": [
    {
     "data": {
      "text/plain": [
       "2084"
      ]
     },
     "execution_count": 60,
     "metadata": {},
     "output_type": "execute_result"
    }
   ],
   "source": [
    "len(str.split(url_text[1]))"
   ]
  },
  {
   "cell_type": "markdown",
   "id": "35f48b42",
   "metadata": {},
   "source": [
    "Make sure that gensim is 3.8.3 \n",
    "`pip install gensim`\n",
    "and Python is 3.8.13."
   ]
  },
  {
   "cell_type": "code",
   "execution_count": 61,
   "id": "e3e1815a",
   "metadata": {},
   "outputs": [
    {
     "name": "stdout",
     "output_type": "stream",
     "text": [
      "3.8.13\n"
     ]
    }
   ],
   "source": [
    "from platform import python_version\n",
    "\n",
    "print(python_version())"
   ]
  },
  {
   "cell_type": "markdown",
   "id": "fc0fbaed",
   "metadata": {},
   "source": [
    "## Summarization"
   ]
  },
  {
   "cell_type": "code",
   "execution_count": 62,
   "id": "3bd6bf92",
   "metadata": {},
   "outputs": [],
   "source": [
    "from gensim.summarization.summarizer import summarize\n",
    "from gensim.summarization import keywords"
   ]
  },
  {
   "cell_type": "markdown",
   "id": "b53f5ee8",
   "metadata": {},
   "source": [
    "### Printing the Summarized Text"
   ]
  },
  {
   "cell_type": "markdown",
   "id": "deb2fbb1",
   "metadata": {},
   "source": [
    "## Method #1 - Word Count"
   ]
  },
  {
   "cell_type": "code",
   "execution_count": 63,
   "id": "5ad696ff",
   "metadata": {},
   "outputs": [
    {
     "name": "stdout",
     "output_type": "stream",
     "text": [
      "Title: A tour of C# - Overview | Microsoft Docs\n",
      "Summary: Aspects of C#\\'s design that were directly influenced by versioning considerations include the separate virtual and override modifiers, the rules for method overload resolution, and support for explicit interface member declarations.\n",
      "C# programs run on .NET, a virtual execution system called the common language runtime (CLR) and a set of class libraries.\n",
      "The Hello class declared by the \"Hello, World\" program has a single member, the method named Main.\n",
      "Programs declare types, which contain members and can be organized into namespaces.\n",
      "You can declare a variable that refers to an instance of the Stack type to use that functionality.\n"
     ]
    }
   ],
   "source": [
    "# summary = summarize(repr(text[1]), ratio=0.1)\n",
    "summary = summarize(repr(url_text[1]), word_count=100)\n",
    "print(f\"Title: {url_text[0]}\")\n",
    "print(f\"Summary: {summary}\")"
   ]
  },
  {
   "cell_type": "markdown",
   "id": "460eba50",
   "metadata": {},
   "source": [
    "### Number of Words - Summarized Text"
   ]
  },
  {
   "cell_type": "code",
   "execution_count": 64,
   "id": "517232ba",
   "metadata": {},
   "outputs": [
    {
     "data": {
      "text/plain": [
       "99"
      ]
     },
     "execution_count": 64,
     "metadata": {},
     "output_type": "execute_result"
    }
   ],
   "source": [
    "len(summary.split())"
   ]
  },
  {
   "cell_type": "markdown",
   "id": "13c5bc1f",
   "metadata": {},
   "source": [
    "### Keywords "
   ]
  },
  {
   "cell_type": "code",
   "execution_count": 65,
   "id": "5c729d61",
   "metadata": {},
   "outputs": [
    {
     "name": "stdout",
     "output_type": "stream",
     "text": [
      "Keywords:\n",
      "\n",
      "types\n",
      "languages\n",
      "class\n",
      "objects\n",
      "program\n",
      "provided\n",
      "code\n",
      "example\n",
      "supports\n",
      "value\n",
      "method\n",
      "declaring\n",
      "namespace\n",
      "application\n",
      "manner\n",
      "contained\n",
      "library\n",
      "named\n",
      "includes\n",
      "operate\n",
      "collections\n",
      "feature\n",
      "uses\n",
      "assemblies\n",
      "common\n",
      "files\n",
      "specific\n",
      "members\n",
      "arrays\n",
      "nullable\n"
     ]
    }
   ],
   "source": [
    "text_keywords = keywords(url_text[1], ratio=0.1, lemmatize=True)\n",
    "print(f\"Keywords:\\n\\n{text_keywords}\")"
   ]
  }
 ],
 "metadata": {
  "kernelspec": {
   "display_name": "Python 3.8.13",
   "language": "python",
   "name": "py38"
  },
  "language_info": {
   "codemirror_mode": {
    "name": "ipython",
    "version": 3
   },
   "file_extension": ".py",
   "mimetype": "text/x-python",
   "name": "python",
   "nbconvert_exporter": "python",
   "pygments_lexer": "ipython3",
   "version": "3.8.13"
  }
 },
 "nbformat": 4,
 "nbformat_minor": 5
}
