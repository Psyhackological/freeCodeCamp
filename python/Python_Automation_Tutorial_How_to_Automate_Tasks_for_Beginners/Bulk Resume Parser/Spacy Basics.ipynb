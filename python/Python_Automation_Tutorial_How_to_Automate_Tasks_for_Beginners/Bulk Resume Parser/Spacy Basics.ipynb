{
 "cells": [
  {
   "cell_type": "markdown",
   "id": "f3b8f43e",
   "metadata": {},
   "source": [
    "### Loading Library"
   ]
  },
  {
   "cell_type": "code",
   "execution_count": 2,
   "id": "78b41ad9",
   "metadata": {},
   "outputs": [],
   "source": [
    "import spacy"
   ]
  },
  {
   "cell_type": "markdown",
   "id": "327e0442",
   "metadata": {},
   "source": [
    "### Load English tokenizer, tagger, parser, NER and word vectors"
   ]
  },
  {
   "cell_type": "code",
   "execution_count": 3,
   "id": "9b73fc3c",
   "metadata": {},
   "outputs": [],
   "source": [
    "nlp = spacy.load(\"en_core_web_sm\")"
   ]
  },
  {
   "cell_type": "markdown",
   "id": "04083389",
   "metadata": {},
   "source": [
    "### Sample Text"
   ]
  },
  {
   "cell_type": "code",
   "execution_count": 5,
   "id": "f9f9c0c2",
   "metadata": {},
   "outputs": [],
   "source": [
    "# Proces whole documents\n",
    "text = \"Google was initially funded by an August 1998 investment of $100,000 from Andy Bechtolsheim, co-founder of Sun Microsystems, a few weeks prior to September 7, 1998, the day Google was officially incorporated. This initial investment served as a motivation to incorporate the company to be able to use the funds.\""
   ]
  },
  {
   "cell_type": "code",
   "execution_count": 6,
   "id": "8088e49c",
   "metadata": {},
   "outputs": [
    {
     "data": {
      "text/plain": [
       "'Google was initially funded by an August 1998 investment of $100,000 from Andy Bechtolsheim, co-founder of Sun Microsystems, a few weeks prior to September 7, 1998, the day Google was officially incorporated. This initial investment served as a motivation to incorporate the company to be able to use the funds.'"
      ]
     },
     "execution_count": 6,
     "metadata": {},
     "output_type": "execute_result"
    }
   ],
   "source": [
    "text"
   ]
  },
  {
   "cell_type": "markdown",
   "id": "08b6c0c5",
   "metadata": {},
   "source": [
    "### NLP at Work"
   ]
  },
  {
   "cell_type": "code",
   "execution_count": 7,
   "id": "2f29e632",
   "metadata": {},
   "outputs": [],
   "source": [
    "doc = nlp(text)"
   ]
  },
  {
   "cell_type": "code",
   "execution_count": 9,
   "id": "54eb4f1c",
   "metadata": {},
   "outputs": [
    {
     "data": {
      "text/plain": [
       "Google was initially funded by an August 1998 investment of $100,000 from Andy Bechtolsheim, co-founder of Sun Microsystems, a few weeks prior to September 7, 1998, the day Google was officially incorporated. This initial investment served as a motivation to incorporate the company to be able to use the funds."
      ]
     },
     "execution_count": 9,
     "metadata": {},
     "output_type": "execute_result"
    }
   ],
   "source": [
    "doc"
   ]
  },
  {
   "cell_type": "markdown",
   "id": "8acc1e3c",
   "metadata": {},
   "source": [
    "### Tokenization"
   ]
  },
  {
   "cell_type": "code",
   "execution_count": 8,
   "id": "f5098c56",
   "metadata": {},
   "outputs": [
    {
     "name": "stdout",
     "output_type": "stream",
     "text": [
      "Google\n",
      "was\n",
      "initially\n",
      "funded\n",
      "by\n",
      "an\n",
      "August\n",
      "1998\n",
      "investment\n",
      "of\n",
      "$\n",
      "100,000\n",
      "from\n",
      "Andy\n",
      "Bechtolsheim\n",
      ",\n",
      "co\n",
      "-\n",
      "founder\n",
      "of\n",
      "Sun\n",
      "Microsystems\n",
      ",\n",
      "a\n",
      "few\n",
      "weeks\n",
      "prior\n",
      "to\n",
      "September\n",
      "7\n",
      ",\n",
      "1998\n",
      ",\n",
      "the\n",
      "day\n",
      "Google\n",
      "was\n",
      "officially\n",
      "incorporated\n",
      ".\n",
      "This\n",
      "initial\n",
      "investment\n",
      "served\n",
      "as\n",
      "a\n",
      "motivation\n",
      "to\n",
      "incorporate\n",
      "the\n",
      "company\n",
      "to\n",
      "be\n",
      "able\n",
      "to\n",
      "use\n",
      "the\n",
      "funds\n",
      ".\n"
     ]
    }
   ],
   "source": [
    "for token in doc:\n",
    "    print(token)"
   ]
  },
  {
   "cell_type": "markdown",
   "id": "8f97510a",
   "metadata": {},
   "source": [
    "### Only Noun"
   ]
  },
  {
   "cell_type": "code",
   "execution_count": 13,
   "id": "1acd6ccf",
   "metadata": {},
   "outputs": [
    {
     "name": "stdout",
     "output_type": "stream",
     "text": [
      "investment\n",
      "co\n",
      "-\n",
      "founder\n",
      "weeks\n",
      "day\n",
      "investment\n",
      "motivation\n",
      "company\n",
      "funds\n"
     ]
    }
   ],
   "source": [
    "for token in doc:\n",
    "    if token.pos_ == \"NOUN\":\n",
    "        print(token)"
   ]
  },
  {
   "cell_type": "markdown",
   "id": "767048ae",
   "metadata": {},
   "source": [
    "### Named Entity Recognition"
   ]
  },
  {
   "cell_type": "code",
   "execution_count": 15,
   "id": "81157b9b",
   "metadata": {},
   "outputs": [
    {
     "name": "stdout",
     "output_type": "stream",
     "text": [
      "August 1998 DATE\n",
      "100,000 MONEY\n",
      "Andy Bechtolsheim PERSON\n",
      "Sun Microsystems ORG\n",
      "a few weeks DATE\n",
      "September 7, 1998 DATE\n"
     ]
    }
   ],
   "source": [
    "for entity in doc.ents:\n",
    "    print(entity.text, entity.label_)"
   ]
  },
  {
   "cell_type": "code",
   "execution_count": null,
   "id": "41820a82",
   "metadata": {},
   "outputs": [],
   "source": []
  }
 ],
 "metadata": {
  "kernelspec": {
   "display_name": "Python 3 (ipykernel)",
   "language": "python",
   "name": "python3"
  },
  "language_info": {
   "codemirror_mode": {
    "name": "ipython",
    "version": 3
   },
   "file_extension": ".py",
   "mimetype": "text/x-python",
   "name": "python",
   "nbconvert_exporter": "python",
   "pygments_lexer": "ipython3",
   "version": "3.10.5"
  }
 },
 "nbformat": 4,
 "nbformat_minor": 5
}
